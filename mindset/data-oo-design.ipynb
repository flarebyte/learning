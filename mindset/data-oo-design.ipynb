{
 "cells": [
  {
   "cell_type": "markdown",
   "metadata": {},
   "source": [
    "# Design of an Object Oriented Data Model"
   ]
  },
  {
   "cell_type": "markdown",
   "metadata": {},
   "source": [
    "## \n",
    "\n",
    "1. **Field Type Classification** – Identify each field as primitive, optional, collection, or nested.\n",
    "2. **Per-Field Effort Weights** – Assign LOC and complexity contributions for each category.\n",
    "3. **Estimator Refactor** – Generalize estimators to accept a list of field types.\n",
    "4. **Effort Aggregation** – Accumulate weighted LOC and complexity.\n",
    "\n",
    "### Field Type Classification\n"
   ]
  },
  {
   "cell_type": "code",
   "execution_count": 326,
   "metadata": {},
   "outputs": [],
   "source": [
    "from typing import Callable, Dict\n",
    "\n",
    "# Individual estimators\n",
    "\n",
    "def estimate_to_string_effort(num_fields: int) -> dict:\n",
    "    loc = num_fields\n",
    "    complexity = 1\n",
    "    return {\"loc\": loc, \"complexity\": complexity}\n",
    "\n",
    "def estimate_equals_effort(num_fields: int) -> dict:\n",
    "    loc = num_fields + 1\n",
    "    complexity = 2\n",
    "    return {\"loc\": loc, \"complexity\": complexity}\n",
    "\n",
    "def estimate_hash_code_effort(num_fields: int) -> dict:\n",
    "    loc = num_fields + 1\n",
    "    complexity = 2\n",
    "    return {\"loc\": loc, \"complexity\": complexity}\n",
    "\n",
    "def estimate_copy_with_effort(num_fields: int) -> dict:\n",
    "    loc = num_fields + 2\n",
    "    complexity = 3\n",
    "    return {\"loc\": loc, \"complexity\": complexity}\n",
    "\n",
    "def estimate_to_json_effort(num_fields: int) -> dict:\n",
    "    loc = num_fields + 2\n",
    "    complexity = 2\n",
    "    return {\"loc\": loc, \"complexity\": complexity}\n",
    "\n",
    "def estimate_from_json_effort(num_fields: int) -> dict:\n",
    "    loc = num_fields + 2\n",
    "    complexity = 3\n",
    "    return {\"loc\": loc, \"complexity\": complexity}\n",
    "\n",
    "def estimate_constructor_effort(num_fields: int) -> dict:\n",
    "    loc = num_fields + 1\n",
    "    complexity = 1\n",
    "    return {\"loc\": loc, \"complexity\": complexity}\n",
    "\n",
    "\n",
    "# Registry of estimators\n",
    "effort_estimators: Dict[str, Callable[[int], dict]] = {\n",
    "    \"toString\": estimate_to_string_effort,\n",
    "    \"equals\": estimate_equals_effort,\n",
    "    \"hashCode\": estimate_hash_code_effort,\n",
    "    \"copyWith\": estimate_copy_with_effort,\n",
    "    \"toJson\": estimate_to_json_effort,\n",
    "    \"fromJson\": estimate_from_json_effort,\n",
    "    \"constructor\": estimate_constructor_effort,\n",
    "}\n",
    "\n"
   ]
  },
  {
   "cell_type": "code",
   "execution_count": 327,
   "metadata": {},
   "outputs": [],
   "source": [
    "def classify_field_type(type_str: str) -> str:\n",
    "    \"\"\"\n",
    "    Classify a type string into one of: primitive, optional, collection, nested.\n",
    "    \"\"\"\n",
    "    primitive_types = {\"int\", \"double\", \"bool\", \"String\", \"number\"}\n",
    "    \n",
    "    if type_str.endswith(\"?\"):\n",
    "        return \"optional\"\n",
    "    elif type_str in primitive_types:\n",
    "        return \"primitive\"\n",
    "    elif type_str.startswith(\"List\") or type_str.startswith(\"Map\"):\n",
    "        return \"collection\"\n",
    "    else:\n",
    "        return \"nested\"\n"
   ]
  },
  {
   "cell_type": "markdown",
   "metadata": {},
   "source": [
    "### Complexity Weights"
   ]
  },
  {
   "cell_type": "code",
   "execution_count": 328,
   "metadata": {},
   "outputs": [],
   "source": [
    "FIELD_COMPLEXITY_WEIGHTS = {\n",
    "    \"primitive\": {\"loc\": 1, \"complexity\": 1},\n",
    "    \"optional\": {\"loc\": 1, \"complexity\": 2},\n",
    "    \"collection\": {\"loc\": 2, \"complexity\": 3},\n",
    "    \"nested\": {\"loc\": 2, \"complexity\": 4},\n",
    "}\n"
   ]
  },
  {
   "cell_type": "markdown",
   "metadata": {},
   "source": [
    "### Generalized Estimator Utility\n",
    "\n",
    "We define a helper to compute weighted totals across field types:\n"
   ]
  },
  {
   "cell_type": "code",
   "execution_count": 329,
   "metadata": {},
   "outputs": [],
   "source": [
    "from typing import List\n",
    "\n",
    "def compute_weighted_effort(field_types: List[str], base_loc=0, base_complexity=0, scaling=1.0) -> dict:\n",
    "    \"\"\"\n",
    "    Aggregate LOC and complexity for a list of field types, with optional base values.\n",
    "    \"\"\"\n",
    "    total_loc = base_loc\n",
    "    total_complexity = base_complexity\n",
    "\n",
    "    for t in field_types:\n",
    "        category = classify_field_type(t)\n",
    "        weights = FIELD_COMPLEXITY_WEIGHTS[category]\n",
    "        total_loc += scaling * weights[\"loc\"]\n",
    "        total_complexity += scaling * weights[\"complexity\"]\n",
    "\n",
    "    return {\n",
    "        \"loc\": int(round(total_loc)),\n",
    "        \"complexity\": int(round(total_complexity)),\n",
    "    }\n"
   ]
  },
  {
   "cell_type": "markdown",
   "metadata": {},
   "source": [
    "### Estimators\n",
    "\n"
   ]
  },
  {
   "cell_type": "code",
   "execution_count": 330,
   "metadata": {},
   "outputs": [],
   "source": [
    "\n",
    "def estimate_to_string_effort_typed(field_types: List[str]) -> dict:\n",
    "    return compute_weighted_effort(field_types, base_loc=0, base_complexity=1)\n",
    "\n",
    "def estimate_equals_effort_typed(field_types: List[str]) -> dict:\n",
    "    return compute_weighted_effort(field_types, base_loc=1, base_complexity=1)\n",
    "\n",
    "def estimate_copy_with_effort_typed(field_types: List[str]) -> dict:\n",
    "    return compute_weighted_effort(field_types, base_loc=2, base_complexity=2)\n",
    "\n",
    "def estimate_validation_class_effort_typed(field_types: List[str]) -> dict:\n",
    "    return compute_weighted_effort(field_types, base_loc=3, base_complexity=2, scaling=2)\n",
    "\n",
    "def estimate_transformer_class_effort_typed(field_types: List[str]) -> dict:\n",
    "    return compute_weighted_effort(field_types, scaling=2)\n",
    "\n"
   ]
  },
  {
   "cell_type": "markdown",
   "metadata": {},
   "source": []
  },
  {
   "cell_type": "code",
   "execution_count": 331,
   "metadata": {},
   "outputs": [],
   "source": [
    "### Registry"
   ]
  },
  {
   "cell_type": "code",
   "execution_count": 332,
   "metadata": {},
   "outputs": [],
   "source": [
    "typed_effort_estimators = {\n",
    "    \"toString\": estimate_to_string_effort_typed,\n",
    "    \"equals\": estimate_equals_effort_typed,\n",
    "    \"copyWith\": estimate_copy_with_effort_typed,\n",
    "    \"validationClass\": estimate_validation_class_effort_typed,\n",
    "    \"transformerClass\": estimate_transformer_class_effort_typed,\n",
    "    # more as needed...\n",
    "}\n"
   ]
  },
  {
   "cell_type": "markdown",
   "metadata": {},
   "source": [
    "### Effort Summary Function"
   ]
  },
  {
   "cell_type": "code",
   "execution_count": 333,
   "metadata": {},
   "outputs": [],
   "source": [
    "def estimate_total_effort_typed(field_types: List[str], selected_functions=None) -> dict:\n",
    "    if selected_functions is None:\n",
    "        selected_functions = list(typed_effort_estimators.keys())\n",
    "\n",
    "    breakdown = {}\n",
    "    total_loc = 0\n",
    "    total_complexity = 0\n",
    "\n",
    "    for name in selected_functions:\n",
    "        estimator = typed_effort_estimators.get(name)\n",
    "        if estimator:\n",
    "            result = estimator(field_types)\n",
    "            breakdown[name] = result\n",
    "            total_loc += result[\"loc\"]\n",
    "            total_complexity += result[\"complexity\"]\n",
    "\n",
    "    return {\n",
    "        \"total_loc\": total_loc,\n",
    "        \"total_complexity\": total_complexity,\n",
    "        \"breakdown\": breakdown\n",
    "    }\n",
    "\n"
   ]
  },
  {
   "cell_type": "markdown",
   "metadata": {},
   "source": [
    "### Example Usage"
   ]
  },
  {
   "cell_type": "code",
   "execution_count": 334,
   "metadata": {},
   "outputs": [
    {
     "data": {
      "text/plain": [
       "{'total_loc': 69,\n",
       " 'total_complexity': 104,\n",
       " 'breakdown': {'toString': {'loc': 9, 'complexity': 15},\n",
       "  'equals': {'loc': 10, 'complexity': 15},\n",
       "  'copyWith': {'loc': 11, 'complexity': 16},\n",
       "  'validationClass': {'loc': 21, 'complexity': 30},\n",
       "  'transformerClass': {'loc': 18, 'complexity': 28}}}"
      ]
     },
     "execution_count": 334,
     "metadata": {},
     "output_type": "execute_result"
    }
   ],
   "source": [
    "\n",
    "field_types = [\"int\", \"String\", \"List<int>\", \"Map<String, dynamic>\", \"User\", \"bool?\"]\n",
    "report = estimate_total_effort_typed(field_types)\n",
    "report\n"
   ]
  },
  {
   "cell_type": "code",
   "execution_count": 335,
   "metadata": {},
   "outputs": [],
   "source": [
    "from typing import Union\n",
    "\n",
    "def estimate_total_effort(\n",
    "    fields: Union[int, List[str]],\n",
    "    selected_functions: List[str] = None\n",
    ") -> dict:\n",
    "    \"\"\"\n",
    "    Unified interface for estimating total implementation effort.\n",
    "\n",
    "    Parameters:\n",
    "    - fields: Either an integer (number of fields) or a list of field type strings.\n",
    "    - selected_functions: Optional list of utility names to include.\n",
    "\n",
    "    Returns:\n",
    "    - Dictionary with total LOC, total complexity, and per-function breakdown.\n",
    "    \"\"\"\n",
    "    if isinstance(fields, int):\n",
    "        # Use untyped estimators\n",
    "        estimators = effort_estimators\n",
    "        get_estimate = lambda fn: estimators[fn](fields)\n",
    "    elif isinstance(fields, list):\n",
    "        # Use typed estimators\n",
    "        estimators = typed_effort_estimators\n",
    "        get_estimate = lambda fn: estimators[fn](fields)\n",
    "    else:\n",
    "        raise ValueError(\"`fields` must be either an integer or a list of type strings.\")\n",
    "\n",
    "    if selected_functions is None:\n",
    "        selected_functions = list(estimators.keys())\n",
    "\n",
    "    breakdown = {}\n",
    "    total_loc = 0\n",
    "    total_complexity = 0\n",
    "\n",
    "    for fn in selected_functions:\n",
    "        if fn in estimators:\n",
    "            result = get_estimate(fn)\n",
    "            breakdown[fn] = result\n",
    "            total_loc += result[\"loc\"]\n",
    "            total_complexity += result[\"complexity\"]\n",
    "\n",
    "    return {\n",
    "        \"total_loc\": total_loc,\n",
    "        \"total_complexity\": total_complexity,\n",
    "        \"breakdown\": breakdown\n",
    "    }\n"
   ]
  },
  {
   "cell_type": "markdown",
   "metadata": {},
   "source": [
    "Untyped: using just the field count\n"
   ]
  },
  {
   "cell_type": "code",
   "execution_count": 336,
   "metadata": {},
   "outputs": [
    {
     "data": {
      "text/plain": [
       "{'total_loc': 44,\n",
       " 'total_complexity': 14,\n",
       " 'breakdown': {'toString': {'loc': 5, 'complexity': 1},\n",
       "  'equals': {'loc': 6, 'complexity': 2},\n",
       "  'hashCode': {'loc': 6, 'complexity': 2},\n",
       "  'copyWith': {'loc': 7, 'complexity': 3},\n",
       "  'toJson': {'loc': 7, 'complexity': 2},\n",
       "  'fromJson': {'loc': 7, 'complexity': 3},\n",
       "  'constructor': {'loc': 6, 'complexity': 1}}}"
      ]
     },
     "execution_count": 336,
     "metadata": {},
     "output_type": "execute_result"
    }
   ],
   "source": [
    "estimate_total_effort(fields=5)"
   ]
  },
  {
   "cell_type": "markdown",
   "metadata": {},
   "source": [
    "Typed: using list of field types\n"
   ]
  },
  {
   "cell_type": "code",
   "execution_count": 337,
   "metadata": {},
   "outputs": [
    {
     "data": {
      "text/plain": [
       "{'total_loc': 55,\n",
       " 'total_complexity': 83,\n",
       " 'breakdown': {'toString': {'loc': 7, 'complexity': 12},\n",
       "  'equals': {'loc': 8, 'complexity': 12},\n",
       "  'copyWith': {'loc': 9, 'complexity': 13},\n",
       "  'validationClass': {'loc': 17, 'complexity': 24},\n",
       "  'transformerClass': {'loc': 14, 'complexity': 22}}}"
      ]
     },
     "execution_count": 337,
     "metadata": {},
     "output_type": "execute_result"
    }
   ],
   "source": [
    "field_types = [\"int\", \"String\", \"List<int>\", \"User\", \"bool?\"]\n",
    "estimate_total_effort(fields=field_types)"
   ]
  },
  {
   "cell_type": "markdown",
   "metadata": {},
   "source": [
    "### A - Flat Model\n",
    "\n",
    "All fields live in a single \"mega\" concept (class) — say, 100 primitive fields"
   ]
  },
  {
   "cell_type": "code",
   "execution_count": 338,
   "metadata": {},
   "outputs": [],
   "source": [
    "def build_flat_model(num_fields: int) -> dict:\n",
    "    \"\"\"\n",
    "    Construct a flat model where all fields are primitive.\n",
    "    \n",
    "    Returns:\n",
    "        Dictionary representing a single concept with all fields.\n",
    "    \"\"\"\n",
    "    field_types = [\"int\"] * num_fields\n",
    "    return {\n",
    "        \"FlatConcept\": field_types\n",
    "    }\n"
   ]
  },
  {
   "cell_type": "markdown",
   "metadata": {},
   "source": [
    "### B - Modular Model\n",
    "\n",
    "Those same fields are distributed across child concepts, and the parent concept holds references to those. "
   ]
  },
  {
   "cell_type": "code",
   "execution_count": 339,
   "metadata": {},
   "outputs": [],
   "source": [
    "def build_modular_model(total_fields: int, fields_per_child: int) -> dict:\n",
    "    \"\"\"\n",
    "    Constructs a modular model:\n",
    "    - Divides fields into child concepts.\n",
    "    - A parent concept holds references to the child concepts.\n",
    "\n",
    "    Returns:\n",
    "        Dictionary mapping concept names to their list of field types.\n",
    "    \"\"\"\n",
    "    if total_fields % fields_per_child != 0:\n",
    "        raise ValueError(\"total_fields must be divisible by fields_per_child.\")\n",
    "\n",
    "    num_children = total_fields // fields_per_child\n",
    "    model = {}\n",
    "\n",
    "    # Create child concepts\n",
    "    for i in range(num_children):\n",
    "        concept_name = f\"ChildConcept{i + 1}\"\n",
    "        model[concept_name] = [\"int\"] * fields_per_child\n",
    "\n",
    "    # Create parent concept with references to all child concepts\n",
    "    parent_fields = list(model.keys())  # Treat each child as a field (reference)\n",
    "    model[\"ParentConcept\"] = parent_fields  # These are nested references\n",
    "\n",
    "    return model"
   ]
  },
  {
   "cell_type": "markdown",
   "metadata": {},
   "source": [
    "### Estimation per Model"
   ]
  },
  {
   "cell_type": "code",
   "execution_count": 340,
   "metadata": {},
   "outputs": [],
   "source": [
    "def estimate_model_effort(model: dict, selected_functions: List[str] = None) -> dict:\n",
    "    \"\"\"\n",
    "    Estimate total effort for a model with optional function filtering.\n",
    "    \"\"\"\n",
    "    total_loc = 0\n",
    "    total_complexity = 0\n",
    "    concept_breakdown = {}\n",
    "\n",
    "    for concept_name, field_types in model.items():\n",
    "        result = estimate_total_effort(fields=field_types, selected_functions=selected_functions)\n",
    "        concept_breakdown[concept_name] = result\n",
    "        total_loc += result[\"total_loc\"]\n",
    "        total_complexity += result[\"total_complexity\"]\n",
    "\n",
    "    return {\n",
    "        \"total_loc\": total_loc,\n",
    "        \"total_complexity\": total_complexity,\n",
    "        \"concept_breakdown\": concept_breakdown\n",
    "    }\n"
   ]
  },
  {
   "cell_type": "markdown",
   "metadata": {},
   "source": [
    "# Comparison Framework"
   ]
  },
  {
   "cell_type": "code",
   "execution_count": 341,
   "metadata": {},
   "outputs": [],
   "source": [
    "def compare_flat_vs_modular(\n",
    "    total_fields: int,\n",
    "    fields_per_child: int,\n",
    "    selected_functions: List[str] = None\n",
    ") -> dict:\n",
    "    \"\"\"\n",
    "    Run A/B test between flat and modular models using selected utilities.\n",
    "    \"\"\"\n",
    "    flat_model = build_flat_model(total_fields)\n",
    "    modular_model = build_modular_model(total_fields, fields_per_child)\n",
    "\n",
    "    flat_effort = estimate_model_effort(flat_model, selected_functions)\n",
    "    modular_effort = estimate_model_effort(modular_model, selected_functions)\n",
    "\n",
    "    return {\n",
    "        \"flat_model\": flat_effort,\n",
    "        \"modular_model\": modular_effort,\n",
    "        \"delta\": {\n",
    "            \"loc\": modular_effort[\"total_loc\"] - flat_effort[\"total_loc\"],\n",
    "            \"complexity\": modular_effort[\"total_complexity\"] - flat_effort[\"total_complexity\"]\n",
    "        }\n",
    "    }\n"
   ]
  },
  {
   "cell_type": "markdown",
   "metadata": {},
   "source": [
    "Example:"
   ]
  },
  {
   "cell_type": "code",
   "execution_count": 342,
   "metadata": {},
   "outputs": [
    {
     "data": {
      "text/plain": [
       "{'flat_model': {'total_loc': 201,\n",
       "  'total_complexity': 202,\n",
       "  'concept_breakdown': {'FlatConcept': {'total_loc': 201,\n",
       "    'total_complexity': 202,\n",
       "    'breakdown': {'toString': {'loc': 100, 'complexity': 101},\n",
       "     'equals': {'loc': 101, 'complexity': 101}}}}},\n",
       " 'modular_model': {'total_loc': 251,\n",
       "  'total_complexity': 302,\n",
       "  'concept_breakdown': {'ChildConcept1': {'total_loc': 21,\n",
       "    'total_complexity': 22,\n",
       "    'breakdown': {'toString': {'loc': 10, 'complexity': 11},\n",
       "     'equals': {'loc': 11, 'complexity': 11}}},\n",
       "   'ChildConcept2': {'total_loc': 21,\n",
       "    'total_complexity': 22,\n",
       "    'breakdown': {'toString': {'loc': 10, 'complexity': 11},\n",
       "     'equals': {'loc': 11, 'complexity': 11}}},\n",
       "   'ChildConcept3': {'total_loc': 21,\n",
       "    'total_complexity': 22,\n",
       "    'breakdown': {'toString': {'loc': 10, 'complexity': 11},\n",
       "     'equals': {'loc': 11, 'complexity': 11}}},\n",
       "   'ChildConcept4': {'total_loc': 21,\n",
       "    'total_complexity': 22,\n",
       "    'breakdown': {'toString': {'loc': 10, 'complexity': 11},\n",
       "     'equals': {'loc': 11, 'complexity': 11}}},\n",
       "   'ChildConcept5': {'total_loc': 21,\n",
       "    'total_complexity': 22,\n",
       "    'breakdown': {'toString': {'loc': 10, 'complexity': 11},\n",
       "     'equals': {'loc': 11, 'complexity': 11}}},\n",
       "   'ChildConcept6': {'total_loc': 21,\n",
       "    'total_complexity': 22,\n",
       "    'breakdown': {'toString': {'loc': 10, 'complexity': 11},\n",
       "     'equals': {'loc': 11, 'complexity': 11}}},\n",
       "   'ChildConcept7': {'total_loc': 21,\n",
       "    'total_complexity': 22,\n",
       "    'breakdown': {'toString': {'loc': 10, 'complexity': 11},\n",
       "     'equals': {'loc': 11, 'complexity': 11}}},\n",
       "   'ChildConcept8': {'total_loc': 21,\n",
       "    'total_complexity': 22,\n",
       "    'breakdown': {'toString': {'loc': 10, 'complexity': 11},\n",
       "     'equals': {'loc': 11, 'complexity': 11}}},\n",
       "   'ChildConcept9': {'total_loc': 21,\n",
       "    'total_complexity': 22,\n",
       "    'breakdown': {'toString': {'loc': 10, 'complexity': 11},\n",
       "     'equals': {'loc': 11, 'complexity': 11}}},\n",
       "   'ChildConcept10': {'total_loc': 21,\n",
       "    'total_complexity': 22,\n",
       "    'breakdown': {'toString': {'loc': 10, 'complexity': 11},\n",
       "     'equals': {'loc': 11, 'complexity': 11}}},\n",
       "   'ParentConcept': {'total_loc': 41,\n",
       "    'total_complexity': 82,\n",
       "    'breakdown': {'toString': {'loc': 20, 'complexity': 41},\n",
       "     'equals': {'loc': 21, 'complexity': 41}}}}},\n",
       " 'delta': {'loc': 50, 'complexity': 100}}"
      ]
     },
     "execution_count": 342,
     "metadata": {},
     "output_type": "execute_result"
    }
   ],
   "source": [
    "result = compare_flat_vs_modular(100, 10, selected_functions=[\"toString\", \"equals\"])\n",
    "result"
   ]
  },
  {
   "cell_type": "markdown",
   "metadata": {},
   "source": [
    "### Simulation\n",
    "\n",
    "We'll define a function that runs compare_flat_vs_modular() across combinations of total_fields and fields_per_child, and stores the results."
   ]
  },
  {
   "cell_type": "code",
   "execution_count": 343,
   "metadata": {},
   "outputs": [],
   "source": [
    "import pandas as pd\n",
    "\n",
    "def run_modularity_experiments(\n",
    "    total_field_values: List[int],\n",
    "    fields_per_child_values: List[int],\n",
    "    selected_functions: List[str] = None\n",
    ") -> pd.DataFrame:\n",
    "    \"\"\"\n",
    "    Runs modularity experiments across ranges of total_fields and fields_per_child.\n",
    "\n",
    "    Returns:\n",
    "        A pandas DataFrame with results per configuration.\n",
    "    \"\"\"\n",
    "    results = []\n",
    "\n",
    "    for total_fields in total_field_values:\n",
    "        for fields_per_child in fields_per_child_values:\n",
    "            if total_fields % fields_per_child != 0:\n",
    "                continue  # skip incompatible combinations\n",
    "\n",
    "            comparison = compare_flat_vs_modular(\n",
    "                total_fields=total_fields,\n",
    "                fields_per_child=fields_per_child,\n",
    "                selected_functions=selected_functions\n",
    "            )\n",
    "\n",
    "            results.append({\n",
    "                \"total_fields\": total_fields,\n",
    "                \"fields_per_child\": fields_per_child,\n",
    "                \"num_children\": total_fields // fields_per_child,\n",
    "                \"flat_loc\": comparison[\"flat_model\"][\"total_loc\"],\n",
    "                \"modular_loc\": comparison[\"modular_model\"][\"total_loc\"],\n",
    "                \"delta_loc\": comparison[\"delta\"][\"loc\"],\n",
    "                \"flat_complexity\": comparison[\"flat_model\"][\"total_complexity\"],\n",
    "                \"modular_complexity\": comparison[\"modular_model\"][\"total_complexity\"],\n",
    "                \"delta_complexity\": comparison[\"delta\"][\"complexity\"]\n",
    "            })\n",
    "\n",
    "    return pd.DataFrame(results)\n"
   ]
  },
  {
   "cell_type": "code",
   "execution_count": 344,
   "metadata": {},
   "outputs": [
    {
     "data": {
      "text/html": [
       "<div>\n",
       "<style scoped>\n",
       "    .dataframe tbody tr th:only-of-type {\n",
       "        vertical-align: middle;\n",
       "    }\n",
       "\n",
       "    .dataframe tbody tr th {\n",
       "        vertical-align: top;\n",
       "    }\n",
       "\n",
       "    .dataframe thead th {\n",
       "        text-align: right;\n",
       "    }\n",
       "</style>\n",
       "<table border=\"1\" class=\"dataframe\">\n",
       "  <thead>\n",
       "    <tr style=\"text-align: right;\">\n",
       "      <th></th>\n",
       "      <th>delta_loc</th>\n",
       "      <th>delta_complexity</th>\n",
       "    </tr>\n",
       "  </thead>\n",
       "  <tbody>\n",
       "    <tr>\n",
       "      <th>count</th>\n",
       "      <td>10.000000</td>\n",
       "      <td>10.000000</td>\n",
       "    </tr>\n",
       "    <tr>\n",
       "      <th>mean</th>\n",
       "      <td>100.800000</td>\n",
       "      <td>179.200000</td>\n",
       "    </tr>\n",
       "    <tr>\n",
       "      <th>std</th>\n",
       "      <td>76.579371</td>\n",
       "      <td>136.141103</td>\n",
       "    </tr>\n",
       "    <tr>\n",
       "      <th>min</th>\n",
       "      <td>18.000000</td>\n",
       "      <td>32.000000</td>\n",
       "    </tr>\n",
       "    <tr>\n",
       "      <th>25%</th>\n",
       "      <td>47.250000</td>\n",
       "      <td>84.000000</td>\n",
       "    </tr>\n",
       "    <tr>\n",
       "      <th>50%</th>\n",
       "      <td>90.000000</td>\n",
       "      <td>160.000000</td>\n",
       "    </tr>\n",
       "    <tr>\n",
       "      <th>75%</th>\n",
       "      <td>123.750000</td>\n",
       "      <td>220.000000</td>\n",
       "    </tr>\n",
       "    <tr>\n",
       "      <th>max</th>\n",
       "      <td>270.000000</td>\n",
       "      <td>480.000000</td>\n",
       "    </tr>\n",
       "  </tbody>\n",
       "</table>\n",
       "</div>"
      ],
      "text/plain": [
       "        delta_loc  delta_complexity\n",
       "count   10.000000         10.000000\n",
       "mean   100.800000        179.200000\n",
       "std     76.579371        136.141103\n",
       "min     18.000000         32.000000\n",
       "25%     47.250000         84.000000\n",
       "50%     90.000000        160.000000\n",
       "75%    123.750000        220.000000\n",
       "max    270.000000        480.000000"
      ]
     },
     "execution_count": 344,
     "metadata": {},
     "output_type": "execute_result"
    }
   ],
   "source": [
    "# Define ranges\n",
    "total_fields_range = [50, 100, 150]\n",
    "fields_per_child_range = [5, 10, 15, 25]\n",
    "\n",
    "# Run experiments for toString + equals + copyWith\n",
    "df_results = run_modularity_experiments(\n",
    "    total_field_values=total_fields_range,\n",
    "    fields_per_child_values=fields_per_child_range,\n",
    "    selected_functions=[\"toString\", \"equals\", \"copyWith\"]\n",
    ")\n",
    "\n",
    "summary = df_results[[\"delta_loc\", \"delta_complexity\"]].describe()\n",
    "summary"
   ]
  },
  {
   "cell_type": "code",
   "execution_count": 345,
   "metadata": {},
   "outputs": [
    {
     "data": {
      "image/png": "[encoded data removed]",
      "text/plain": [
       "<Figure size 800x600 with 2 Axes>"
      ]
     },
     "metadata": {},
     "output_type": "display_data"
    }
   ],
   "source": [
    "import seaborn as sns\n",
    "import matplotlib.pyplot as plt\n",
    "\n",
    "# Heatmap of delta LOC\n",
    "pivot_loc = df_results.pivot(\n",
    "    index=\"total_fields\", columns=\"fields_per_child\", values=\"delta_loc\"\n",
    ")\n",
    "\n",
    "plt.figure(figsize=(8, 6))\n",
    "sns.heatmap(pivot_loc, annot=True, fmt=\".0f\", cmap=\"RdBu\", center=0)\n",
    "plt.title(\"Δ LOC (Modular - Flat)\")\n",
    "plt.xlabel(\"Fields per Child Concept\")\n",
    "plt.ylabel(\"Total Fields\")\n",
    "plt.tight_layout()\n",
    "plt.show()\n"
   ]
  },
  {
   "cell_type": "markdown",
   "metadata": {},
   "source": [
    "\n",
    "***Interpretation Highlights***\n",
    "\n",
    "- **Monotonic Trend**: As `fields_per_child` increases (fewer, larger children), the overhead (`Δ LOC`) **decreases**.\n",
    "- **Linear Scaling**: For fixed `fields_per_child`, increasing `total_fields` leads to **linear growth** in `Δ LOC`. This confirms that modularity overhead scales proportionally with the number of partitions.\n",
    "- **Minimum Overhead**: The lowest `Δ LOC` is observed when `fields_per_child` is large (i.e., fewer child concepts, more fields per child).\n",
    "\n"
   ]
  },
  {
   "cell_type": "markdown",
   "metadata": {},
   "source": [
    "## Ratio of modular effort (B) to flat effort (A)\n",
    "\n",
    "Let's create a line chart that compares the ratio of modular effort (B) to flat effort (A) for both LOC and complexity, for a fixed total_fields = 150, and with a separate line for each fields_per_child value."
   ]
  },
  {
   "cell_type": "code",
   "execution_count": 346,
   "metadata": {},
   "outputs": [],
   "source": [
    "import matplotlib.pyplot as plt\n",
    "\n",
    "def plot_effort_ratios_for_fixed_total_fields(\n",
    "    total_fields: int,\n",
    "    fields_per_child_values: List[int],\n",
    "    selected_functions: List[str] = None\n",
    "):\n",
    "    ratio_data = []\n",
    "\n",
    "    for fpc in fields_per_child_values:\n",
    "        if total_fields % fpc != 0:\n",
    "            continue\n",
    "\n",
    "        result = compare_flat_vs_modular(\n",
    "            total_fields=total_fields,\n",
    "            fields_per_child=fpc,\n",
    "            selected_functions=selected_functions\n",
    "        )\n",
    "\n",
    "        flat_loc = result[\"flat_model\"][\"total_loc\"]\n",
    "        flat_complexity = result[\"flat_model\"][\"total_complexity\"]\n",
    "        modular_loc = result[\"modular_model\"][\"total_loc\"]\n",
    "        modular_complexity = result[\"modular_model\"][\"total_complexity\"]\n",
    "\n",
    "        ratio_data.append({\n",
    "            \"fields_per_child\": fpc,\n",
    "            \"loc_ratio\": modular_loc / flat_loc,\n",
    "            \"complexity_ratio\": modular_complexity / flat_complexity\n",
    "        })\n",
    "\n",
    "    # Convert to DataFrame for plotting\n",
    "    df = pd.DataFrame(ratio_data).sort_values(\"fields_per_child\")\n",
    "\n",
    "    # Plot\n",
    "    plt.figure(figsize=(10, 5))\n",
    "    plt.plot(df[\"fields_per_child\"], df[\"loc_ratio\"], marker='o', label='LOC Ratio (Modular / Flat)')\n",
    "    plt.plot(df[\"fields_per_child\"], df[\"complexity_ratio\"], marker='s', label='Complexity Ratio (Modular / Flat)')\n",
    "    plt.axhline(1.0, linestyle=\"--\", color=\"gray\", linewidth=1)\n",
    "\n",
    "    plt.title(f\"Effort Ratio (Modular / Flat) — Total Fields = {total_fields}\")\n",
    "    plt.xlabel(\"Fields per Child Concept\")\n",
    "    plt.ylabel(\"Ratio\")\n",
    "    plt.legend()\n",
    "    plt.grid(True)\n",
    "    plt.tight_layout()\n",
    "    plt.show()\n"
   ]
  },
  {
   "cell_type": "code",
   "execution_count": 347,
   "metadata": {},
   "outputs": [
    {
     "data": {
      "image/png": "[encoded data removed]",
      "text/plain": [
       "<Figure size 1000x500 with 1 Axes>"
      ]
     },
     "metadata": {},
     "output_type": "display_data"
    }
   ],
   "source": [
    "plot_effort_ratios_for_fixed_total_fields(\n",
    "    total_fields=150,\n",
    "    fields_per_child_values=[5, 10, 15, 25, 30, 50],\n",
    "    selected_functions=[\"toString\", \"equals\", \"copyWith\"]\n",
    ")"
   ]
  },
  {
   "cell_type": "markdown",
   "metadata": {},
   "source": [
    "### 🟠 **Complexity Ratio (Modular / Flat)**\n",
    "\n",
    "- **Starts at ~2.1** for `fields_per_child = 5`:  \n",
    "  This is a **very steep cost**, more than doubling the cognitive or branching complexity. Each small child concept adds repeated structural and logic overhead.\n",
    "  \n",
    "- **Drops quickly to ~1.2** by `fields_per_child = 25`, and flattens near **1.1** at 50:  \n",
    "  This shows that **modularity becomes much less expensive in terms of complexity** when child concepts group more fields.\n",
    "\n",
    "- **Interpretation**:  \n",
    "  Modularity creates a *fixed complexity overhead per concept*. As you increase `fields_per_child`, this fixed cost is shared among more fields, so **relative complexity drops**.\n",
    "\n",
    "\n",
    "### 🔵 **LOC Ratio (Modular / Flat)**\n",
    "\n",
    "- **Starts at ~1.6** and gradually falls toward **1.05–1.1** by `fields_per_child = 50`:  \n",
    "  Even at the most modular extreme, you're only adding ~60% more LOC — much less painful than the complexity hit.\n",
    "\n",
    "- **LOC curve is smoother and less steep** than complexity:  \n",
    "  This suggests that **code duplication and boilerplate** scale linearly with the number of concepts, but don’t explode like branching logic.\n",
    "\n",
    "### Key Takeaways\n",
    "\n",
    "- **Excessive modularity (many small concepts)** has a **very high complexity cost** and a **moderate LOC cost**.\n",
    "- **Moderate modularity (larger concepts)** brings the modular/flat ratios **close to 1.0**, especially for LOC.\n"
   ]
  }
 ],
 "metadata": {
  "kernelspec": {
   "display_name": "py312",
   "language": "python",
   "name": "python3"
  },
  "language_info": {
   "codemirror_mode": {
    "name": "ipython",
    "version": 3
   },
   "file_extension": ".py",
   "mimetype": "text/x-python",
   "name": "python",
   "nbconvert_exporter": "python",
   "pygments_lexer": "ipython3",
   "version": "3.12.9"
  }
 },
 "nbformat": 4,
 "nbformat_minor": 2
}
