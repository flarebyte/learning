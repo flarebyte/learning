{
 "cells": [
  {
   "cell_type": "markdown",
   "metadata": {},
   "source": [
    "# Design of an Object Oriented Data Model"
   ]
  },
  {
   "cell_type": "markdown",
   "metadata": {},
   "source": [
    "## \n",
    "\n",
    "1. **Field Type Classification** – Identify each field as primitive, optional, collection, or nested.\n",
    "2. **Per-Field Effort Weights** – Assign LOC and complexity contributions for each category.\n",
    "3. **Estimator Refactor** – Generalize estimators to accept a list of field types.\n",
    "4. **Effort Aggregation** – Accumulate weighted LOC and complexity.\n",
    "\n",
    "### Field Type Classification\n"
   ]
  },
  {
   "cell_type": "code",
   "execution_count": 9,
   "metadata": {},
   "outputs": [],
   "source": [
    "def classify_field_type(type_str: str) -> str:\n",
    "    \"\"\"\n",
    "    Classify a type string into one of: primitive, optional, collection, nested.\n",
    "    \"\"\"\n",
    "    primitive_types = {\"int\", \"double\", \"bool\", \"String\", \"number\"}\n",
    "    \n",
    "    if type_str.endswith(\"?\"):\n",
    "        return \"optional\"\n",
    "    elif type_str in primitive_types:\n",
    "        return \"primitive\"\n",
    "    elif type_str.startswith(\"List\") or type_str.startswith(\"Map\"):\n",
    "        return \"collection\"\n",
    "    else:\n",
    "        return \"nested\"\n"
   ]
  },
  {
   "cell_type": "markdown",
   "metadata": {},
   "source": [
    "### Complexity Weights"
   ]
  },
  {
   "cell_type": "code",
   "execution_count": 10,
   "metadata": {},
   "outputs": [],
   "source": [
    "FIELD_COMPLEXITY_WEIGHTS = {\n",
    "    \"primitive\": {\"loc\": 1, \"complexity\": 1},\n",
    "    \"optional\": {\"loc\": 1, \"complexity\": 2},\n",
    "    \"collection\": {\"loc\": 2, \"complexity\": 3},\n",
    "    \"nested\": {\"loc\": 2, \"complexity\": 4},\n",
    "}\n"
   ]
  },
  {
   "cell_type": "markdown",
   "metadata": {},
   "source": [
    "### Generalized Estimator Utility\n",
    "\n",
    "We define a helper to compute weighted totals across field types:\n"
   ]
  },
  {
   "cell_type": "code",
   "execution_count": 11,
   "metadata": {},
   "outputs": [],
   "source": [
    "from typing import List\n",
    "\n",
    "def compute_weighted_effort(field_types: List[str], base_loc=0, base_complexity=0, scaling=1.0) -> dict:\n",
    "    \"\"\"\n",
    "    Aggregate LOC and complexity for a list of field types, with optional base values.\n",
    "    \"\"\"\n",
    "    total_loc = base_loc\n",
    "    total_complexity = base_complexity\n",
    "\n",
    "    for t in field_types:\n",
    "        category = classify_field_type(t)\n",
    "        weights = FIELD_COMPLEXITY_WEIGHTS[category]\n",
    "        total_loc += scaling * weights[\"loc\"]\n",
    "        total_complexity += scaling * weights[\"complexity\"]\n",
    "\n",
    "    return {\n",
    "        \"loc\": int(round(total_loc)),\n",
    "        \"complexity\": int(round(total_complexity)),\n",
    "    }\n"
   ]
  },
  {
   "cell_type": "markdown",
   "metadata": {},
   "source": [
    "### Estimators\n",
    "\n"
   ]
  },
  {
   "cell_type": "code",
   "execution_count": 12,
   "metadata": {},
   "outputs": [],
   "source": [
    "\n",
    "def estimate_to_string_effort_typed(field_types: List[str]) -> dict:\n",
    "    return compute_weighted_effort(field_types, base_loc=0, base_complexity=1)\n",
    "\n",
    "def estimate_equals_effort_typed(field_types: List[str]) -> dict:\n",
    "    return compute_weighted_effort(field_types, base_loc=1, base_complexity=1)\n",
    "\n",
    "def estimate_copy_with_effort_typed(field_types: List[str]) -> dict:\n",
    "    return compute_weighted_effort(field_types, base_loc=2, base_complexity=2)\n",
    "\n",
    "def estimate_validation_class_effort_typed(field_types: List[str]) -> dict:\n",
    "    return compute_weighted_effort(field_types, base_loc=3, base_complexity=2, scaling=2)\n",
    "\n",
    "def estimate_transformer_class_effort_typed(field_types: List[str]) -> dict:\n",
    "    return compute_weighted_effort(field_types, scaling=2)\n",
    "\n"
   ]
  },
  {
   "cell_type": "markdown",
   "metadata": {},
   "source": []
  },
  {
   "cell_type": "code",
   "execution_count": 13,
   "metadata": {},
   "outputs": [],
   "source": [
    "### Registry"
   ]
  },
  {
   "cell_type": "code",
   "execution_count": 14,
   "metadata": {},
   "outputs": [],
   "source": [
    "typed_effort_estimators = {\n",
    "    \"toString\": estimate_to_string_effort_typed,\n",
    "    \"equals\": estimate_equals_effort_typed,\n",
    "    \"copyWith\": estimate_copy_with_effort_typed,\n",
    "    \"validationClass\": estimate_validation_class_effort_typed,\n",
    "    \"transformerClass\": estimate_transformer_class_effort_typed,\n",
    "    # more as needed...\n",
    "}\n"
   ]
  },
  {
   "cell_type": "markdown",
   "metadata": {},
   "source": [
    "### Effort Summary Function"
   ]
  },
  {
   "cell_type": "code",
   "execution_count": 15,
   "metadata": {},
   "outputs": [],
   "source": [
    "def estimate_total_effort_typed(field_types: List[str], selected_functions=None) -> dict:\n",
    "    if selected_functions is None:\n",
    "        selected_functions = list(typed_effort_estimators.keys())\n",
    "\n",
    "    breakdown = {}\n",
    "    total_loc = 0\n",
    "    total_complexity = 0\n",
    "\n",
    "    for name in selected_functions:\n",
    "        estimator = typed_effort_estimators.get(name)\n",
    "        if estimator:\n",
    "            result = estimator(field_types)\n",
    "            breakdown[name] = result\n",
    "            total_loc += result[\"loc\"]\n",
    "            total_complexity += result[\"complexity\"]\n",
    "\n",
    "    return {\n",
    "        \"total_loc\": total_loc,\n",
    "        \"total_complexity\": total_complexity,\n",
    "        \"breakdown\": breakdown\n",
    "    }\n",
    "\n"
   ]
  },
  {
   "cell_type": "markdown",
   "metadata": {},
   "source": [
    "### Example Usage"
   ]
  },
  {
   "cell_type": "code",
   "execution_count": 16,
   "metadata": {},
   "outputs": [
    {
     "data": {
      "text/plain": [
       "{'total_loc': 69,\n",
       " 'total_complexity': 104,\n",
       " 'breakdown': {'toString': {'loc': 9, 'complexity': 15},\n",
       "  'equals': {'loc': 10, 'complexity': 15},\n",
       "  'copyWith': {'loc': 11, 'complexity': 16},\n",
       "  'validationClass': {'loc': 21, 'complexity': 30},\n",
       "  'transformerClass': {'loc': 18, 'complexity': 28}}}"
      ]
     },
     "execution_count": 16,
     "metadata": {},
     "output_type": "execute_result"
    }
   ],
   "source": [
    "\n",
    "field_types = [\"int\", \"String\", \"List<int>\", \"Map<String, dynamic>\", \"User\", \"bool?\"]\n",
    "report = estimate_total_effort_typed(field_types)\n",
    "report\n"
   ]
  }
 ],
 "metadata": {
  "kernelspec": {
   "display_name": "py312",
   "language": "python",
   "name": "python3"
  },
  "language_info": {
   "codemirror_mode": {
    "name": "ipython",
    "version": 3
   },
   "file_extension": ".py",
   "mimetype": "text/x-python",
   "name": "python",
   "nbconvert_exporter": "python",
   "pygments_lexer": "ipython3",
   "version": "3.12.9"
  }
 },
 "nbformat": 4,
 "nbformat_minor": 2
}
