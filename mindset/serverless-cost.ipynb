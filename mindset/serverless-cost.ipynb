{
 "cells": [
  {
   "cell_type": "markdown",
   "id": "cb5b8df7",
   "metadata": {},
   "source": [
    "# Analysis of serverless cost"
   ]
  }
 ],
 "metadata": {
  "language_info": {
   "name": "python"
  }
 },
 "nbformat": 4,
 "nbformat_minor": 5
}
